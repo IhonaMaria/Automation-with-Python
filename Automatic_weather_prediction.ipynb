{
 "cells": [
  {
   "cell_type": "markdown",
   "id": "3951bbb0",
   "metadata": {},
   "source": [
    "## AUTOMATIC WEATHER PREDICTION"
   ]
  },
  {
   "cell_type": "markdown",
   "id": "3d09d3c4",
   "metadata": {},
   "source": [
    "Imagine every day when you wake up you always check the weather in your city before going outside. Wouldn't it be nice to have this action automated so that you don't spend time checking it?\n",
    "\n",
    "In this code, thanks to the Python Selenium library, we will access the Sspanish weather webpage \"El tiempo\", check the weather of today in Barcelona and then save it in a .csv file. Only with a click!"
   ]
  },
  {
   "cell_type": "code",
   "execution_count": 15,
   "id": "1795908d",
   "metadata": {},
   "outputs": [
    {
     "name": "stderr",
     "output_type": "stream",
     "text": [
      "C:\\Users\\Ihona\\AppData\\Local\\Temp\\ipykernel_18976\\742756429.py:16: DeprecationWarning: executable_path has been deprecated, please pass in a Service object\n",
      "  driver = webdriver.Chrome(executable_path=driver_path, options=options)\n"
     ]
    },
    {
     "name": "stdout",
     "output_type": "stream",
     "text": [
      "['23:00', '16°', '0 mm', '20%']\n",
      "   Hours Temperatura Rain (mm) Humidity (%)\n",
      "0  23:00         16°      0 mm          20%\n"
     ]
    }
   ],
   "source": [
    "from selenium import webdriver\n",
    "from selenium.webdriver.common.by import By\n",
    "from selenium.webdriver.support.ui import WebDriverWait\n",
    "from selenium.webdriver.support import expected_conditions as EC\n",
    "import pandas as pd\n",
    "\n",
    "# Adjust navigation options\n",
    "options = webdriver.ChromeOptions()\n",
    "options.add_argument('--start-maximized')\n",
    "options.add_argument('--disable-extensions')\n",
    "\n",
    "# Set the path to the Chrome driver\n",
    "driver_path = 'C:\\Program Files (x86)\\Google\\Chrome\\Application\\chromedriver.exe'\n",
    "\n",
    "# Initialize the driver\n",
    "driver = webdriver.Chrome(executable_path=driver_path, options=options)\n",
    "\n",
    "# Open the website and accept cookies\n",
    "driver.get('https://www.eltiempo.es/')\n",
    "WebDriverWait(driver, 5).until(EC.element_to_be_clickable((By.CSS_SELECTOR,\n",
    "                                                           'button.didomi-components-button.didomi-button.didomi-dismiss-button.didomi-components-button--color.didomi-button-highlight.highlight-button'))).click()\n",
    "\n",
    "# Search for the city\n",
    "WebDriverWait(driver, 5).until(EC.element_to_be_clickable((By.CSS_SELECTOR, 'input#term'))).send_keys('Barcelona')\n",
    "\n",
    "# Click the first option\n",
    "WebDriverWait(driver, 5).until(EC.element_to_be_clickable((By.CSS_SELECTOR, 'span.item-name'))).click()\n",
    "\n",
    "# Click on the time per hours option\n",
    "WebDriverWait(driver, 5).until(EC.element_to_be_clickable((By.XPATH, '/html/body/div[5]/div[1]/div[4]/div/main/section[3]/section/section/ul[1]/li[2]/h2/a'))).click()\n",
    "\n",
    "# Wait for the element and retrieve the text\n",
    "texto_columnas = WebDriverWait(driver, 5).until(EC.visibility_of_element_located((By.XPATH, '/html/body/div[5]/div[1]/div[4]/div/main/section[3]/article/ul/li[1]'))).text\n",
    "tiempo_hoy = texto_columnas.split('\\n')[1:-1]\n",
    "print(tiempo_hoy)\n",
    "\n",
    "#Let's pass the information of the webpage into a pandas dataframe and download the result in a .csv file:\n",
    "\n",
    "hours = list()\n",
    "temp = list()\n",
    "rain = list()\n",
    "humidity= list()\n",
    "\n",
    "for i in range(0, len(tiempo_hoy), 5):\n",
    "    hours.append(tiempo_hoy[i])\n",
    "    temp.append(tiempo_hoy[i+1])\n",
    "    rain.append(tiempo_hoy[i+2])\n",
    "    humidity.append(tiempo_hoy[i+3])\n",
    "    \n",
    "\n",
    "df = pd.DataFrame({'Hours': hours, 'Temperatura': temp, 'Rain (mm)': rain, 'Humidity (%)': humidity})\n",
    "print(df)\n",
    "df.to_csv('weather_today.csv', index=False)\n",
    "\n",
    "driver.quit()"
   ]
  }
 ],
 "metadata": {
  "kernelspec": {
   "display_name": "Python 3 (ipykernel)",
   "language": "python",
   "name": "python3"
  },
  "language_info": {
   "codemirror_mode": {
    "name": "ipython",
    "version": 3
   },
   "file_extension": ".py",
   "mimetype": "text/x-python",
   "name": "python",
   "nbconvert_exporter": "python",
   "pygments_lexer": "ipython3",
   "version": "3.9.16"
  }
 },
 "nbformat": 4,
 "nbformat_minor": 5
}
